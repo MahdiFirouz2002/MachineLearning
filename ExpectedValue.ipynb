{
 "cells": [
  {
   "attachments": {},
   "cell_type": "markdown",
   "metadata": {},
   "source": [
    "# Expected Value\n",
    "__Author__ : Mahdi Firouz\n",
    "\n",
    "__Course__ : Undergraduate Machine Learning"
   ]
  },
  {
   "cell_type": "code",
   "execution_count": 2,
   "metadata": {},
   "outputs": [
    {
     "name": "stdout",
     "output_type": "stream",
     "text": [
      "Total Score:  35077\n",
      "Expected Value:  35000.0\n"
     ]
    }
   ],
   "source": [
    "import random\n",
    "\n",
    "# Define the number of dice rolls and the number of sides on each die\n",
    "num_rolls = 10000\n",
    "num_sides = 6\n",
    "\n",
    "# Roll the dice and keep track of the total score\n",
    "total_score = 0\n",
    "for i in range(num_rolls):\n",
    "    roll = random.randint(1, num_sides)\n",
    "    total_score += roll\n",
    "\n",
    "# Calculate the expected value of the dice rolls\n",
    "expected_value = (num_sides + 1) / 2 * num_rolls\n",
    "\n",
    "# Print the total score and the expected value\n",
    "print(\"Total Score: \", total_score)\n",
    "print(\"Expected Value: \", expected_value)\n"
   ]
  },
  {
   "attachments": {},
   "cell_type": "markdown",
   "metadata": {},
   "source": [
    "### Note:\n",
    "as you can see there is a little difference between E(X) and dice rolling test "
   ]
  }
 ],
 "metadata": {
  "kernelspec": {
   "display_name": "base",
   "language": "python",
   "name": "python3"
  },
  "language_info": {
   "codemirror_mode": {
    "name": "ipython",
    "version": 3
   },
   "file_extension": ".py",
   "mimetype": "text/x-python",
   "name": "python",
   "nbconvert_exporter": "python",
   "pygments_lexer": "ipython3",
   "version": "3.9.12"
  },
  "orig_nbformat": 4,
  "vscode": {
   "interpreter": {
    "hash": "49cb93f377a7abe7414b7b0f21fb3017538004a126cf690fb524202736b7fb92"
   }
  }
 },
 "nbformat": 4,
 "nbformat_minor": 2
}
