{
 "cells": [
  {
   "attachments": {},
   "cell_type": "markdown",
   "metadata": {},
   "source": [
    "# Uniform Distribution\n",
    "__Author__ : Mahdi Firouz\n",
    "\n",
    "__Course__ : Undergraduate Machine Learning"
   ]
  },
  {
   "attachments": {},
   "cell_type": "markdown",
   "metadata": {},
   "source": [
    "### Problem:\n",
    "amount of time a person must wait for a terrain to arrive in a certain town is uniformly distributed between 0 and 40 minutes.<br />\n",
    "what is the probability the terrain will arrive between 8 and 15 minutes?"
   ]
  },
  {
   "cell_type": "code",
   "execution_count": 1,
   "metadata": {},
   "outputs": [],
   "source": [
    "# import libraries\n",
    "import numpy as np\n",
    "import matplotlib.pyplot as plt"
   ]
  },
  {
   "cell_type": "code",
   "execution_count": 6,
   "metadata": {},
   "outputs": [
    {
     "data": {
      "image/png": "[encoded data removed]",
      "text/plain": [
       "<Figure size 432x288 with 1 Axes>"
      ]
     },
     "metadata": {
      "needs_background": "light"
     },
     "output_type": "display_data"
    },
    {
     "name": "stdout",
     "output_type": "stream",
     "text": [
      "The probability of 8 < time < 15 is: 46.67%\n"
     ]
    }
   ],
   "source": [
    "# Define the lower and upper bounds of the uniform distribution\n",
    "a = 5\n",
    "b = 20\n",
    "\n",
    "# Calculate the probability of 8 < time < 15\n",
    "prob = (15 - 8) / (b - a)\n",
    "\n",
    "# Plot the uniform distribution\n",
    "x = np.linspace(a-1, b+1, 1000)\n",
    "y = np.full_like(x, 1/(b-a))\n",
    "plt.plot(x, y, color='blue')\n",
    "\n",
    "# Shade the area between 8 and 15\n",
    "x_fill = np.linspace(8, 15, 1000)\n",
    "y_fill = np.full_like(x_fill, 1/(b-a))\n",
    "plt.fill_between(x_fill, y_fill, color='orange', alpha=0.5)\n",
    "\n",
    "# Add labels and a title\n",
    "plt.xlabel('Time')\n",
    "plt.ylabel('Probability Density')\n",
    "plt.title('Uniform Distribution with 8 < time < 15 shaded')\n",
    "\n",
    "# Show the plot\n",
    "plt.show()\n",
    "\n",
    "# Print the probability of 8 < time < 15\n",
    "print(\"The probability of 8 < time < 15 is: {:.2f}%\".format(prob * 100))\n"
   ]
  }
 ],
 "metadata": {
  "kernelspec": {
   "display_name": "base",
   "language": "python",
   "name": "python3"
  },
  "language_info": {
   "codemirror_mode": {
    "name": "ipython",
    "version": 3
   },
   "file_extension": ".py",
   "mimetype": "text/x-python",
   "name": "python",
   "nbconvert_exporter": "python",
   "pygments_lexer": "ipython3",
   "version": "3.9.12"
  },
  "orig_nbformat": 4,
  "vscode": {
   "interpreter": {
    "hash": "49cb93f377a7abe7414b7b0f21fb3017538004a126cf690fb524202736b7fb92"
   }
  }
 },
 "nbformat": 4,
 "nbformat_minor": 2
}
